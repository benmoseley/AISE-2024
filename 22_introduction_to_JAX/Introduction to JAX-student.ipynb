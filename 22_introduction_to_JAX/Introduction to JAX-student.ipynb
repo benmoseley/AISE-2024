{
 "cells": [
  {
   "cell_type": "markdown",
   "id": "5d15ed39",
   "metadata": {},
   "source": [
    "# Introduction to JAX\n",
    "\n",
    "Written by Ben Moseley\n",
    "\n",
    "\n",
    "## What is JAX?\n",
    "\n",
    "<img src=\"what-is-jax.png\" width=80%>"
   ]
  },
  {
   "cell_type": "code",
   "execution_count": null,
   "id": "5560b2ba",
   "metadata": {},
   "outputs": [],
   "source": [
    "import os\n",
    "os.environ['XLA_FLAGS'] = '--xla_force_host_platform_device_count=2'\n",
    "import jax\n",
    "import matplotlib.pyplot as plt"
   ]
  },
  {
   "cell_type": "markdown",
   "id": "c8302346",
   "metadata": {},
   "source": [
    "# Arrays with JAX NumPy"
   ]
  },
  {
   "cell_type": "code",
   "execution_count": null,
   "id": "b4ad4857",
   "metadata": {},
   "outputs": [],
   "source": [
    "import jax.numpy as jnp\n",
    "\n",
    "x = jnp.array([[0., 2., 4.]])\n",
    "print(x, x.shape)\n",
    "print(x @ x.T)\n",
    "print(x * x.T)"
   ]
  },
  {
   "cell_type": "markdown",
   "id": "3a148018",
   "metadata": {},
   "source": [
    "# Autodifferentiation with JAX"
   ]
  },
  {
   "cell_type": "code",
   "execution_count": null,
   "id": "91bf0780",
   "metadata": {},
   "outputs": [],
   "source": [
    "def fn(x):\n",
    "    return jnp.tanh(x)\n",
    "\n",
    "x = jnp.linspace(-5,5,500)\n",
    "\n",
    "plt.plot(x, fn(x), label=\"f(x)\")\n",
    "plt.legend()\n",
    "plt.xlabel(\"x\")\n",
    "plt.show()"
   ]
  },
  {
   "cell_type": "code",
   "execution_count": null,
   "id": "1e0c8271",
   "metadata": {},
   "outputs": [],
   "source": [
    "# gradient\n",
    "# TODO: define dfdx and d2dfdx2 functions\n",
    "\n",
    "plt.plot(x, fn(x), label=\"f(x)\")\n",
    "plt.plot(x, [dfdx_fn(x_) for x_ in x], label=\"df/dx\")\n",
    "plt.plot(x, [d2fdx2_fn(x_) for x_ in x], label=\"d$^2$f/dx$^2$\")\n",
    "plt.legend()\n",
    "plt.xlabel(\"x\")\n",
    "plt.show()"
   ]
  },
  {
   "cell_type": "code",
   "execution_count": null,
   "id": "d7d43fe8",
   "metadata": {},
   "outputs": [],
   "source": [
    "print(jax.make_jaxpr(fn)(x))# JAX transforms programs using a simple intermediate language call jaxpr"
   ]
  },
  {
   "cell_type": "code",
   "execution_count": null,
   "id": "df6a6ae1",
   "metadata": {},
   "outputs": [],
   "source": [
    "# Jacobian\n",
    "jacobian_fn = jax.jacfwd(fn)\n",
    "j = jacobian_fn(x)\n",
    "print(j)\n",
    "print(j.shape)"
   ]
  },
  {
   "cell_type": "code",
   "execution_count": null,
   "id": "7506a9d4",
   "metadata": {},
   "outputs": [],
   "source": [
    "# vector-Jacobian product\n",
    "f, vjp_fn = jax.vjp(fn, x)\n",
    "dfdx, = vjp_fn(jnp.ones_like(x))\n",
    "\n",
    "plt.plot(x, f, label=\"f(x)\")\n",
    "plt.plot(x, dfdx, label=\"df/dx\")\n",
    "plt.legend()\n",
    "plt.xlabel(\"x\")\n",
    "plt.show()\n",
    "\n",
    "# Jacobian-vector product\n",
    "f, dfdx = jax.jvp(fn, (x,), (jnp.ones_like(x),))\n",
    "\n",
    "plt.plot(x, f, label=\"f(x)\")\n",
    "plt.plot(x, dfdx, label=\"df/dx\")\n",
    "plt.legend()\n",
    "plt.xlabel(\"x\")\n",
    "plt.show()"
   ]
  },
  {
   "cell_type": "markdown",
   "id": "34db3256",
   "metadata": {},
   "source": [
    "# Vectorisation with JAX"
   ]
  },
  {
   "cell_type": "code",
   "execution_count": null,
   "id": "e18a0da9",
   "metadata": {},
   "outputs": [],
   "source": [
    "def forward_fn(w, b, x):\n",
    "    x = w @ x + b\n",
    "    x = jnp.tanh(x)\n",
    "    return x\n",
    "\n",
    "key = jax.random.key(seed=0)\n",
    "key1, key2, key3 = jax.random.split(key, 3)\n",
    "x = jax.random.normal(key1, (3,))\n",
    "w = jax.random.normal(key2, (10,3))\n",
    "b = jax.random.normal(key3, (10,))\n",
    "y = forward_fn(w, b, x)\n",
    "print(x.shape)\n",
    "print(y.shape)"
   ]
  },
  {
   "cell_type": "code",
   "execution_count": null,
   "id": "d080ab23",
   "metadata": {},
   "outputs": [],
   "source": [
    "# TODO: vectorise forward_fn\n",
    "\n",
    "x_batch = jax.random.normal(key, (1000,3))\n",
    "y_batch = forward_batch_fn(w, b, x_batch)\n",
    "print(x_batch.shape)\n",
    "print(y_batch.shape)"
   ]
  },
  {
   "cell_type": "markdown",
   "id": "6c05563f",
   "metadata": {},
   "source": [
    "# Just-in-time compilation with JAX"
   ]
  },
  {
   "cell_type": "code",
   "execution_count": null,
   "id": "cba98473",
   "metadata": {},
   "outputs": [],
   "source": [
    "def fn(x):\n",
    "    return x + x*x + x*x*x\n",
    "\n",
    "jit_fn = jax.jit(fn)\n",
    "\n",
    "x = jax.random.normal(key, (1000,1000))\n",
    "%timeit fn(x).block_until_ready()\n",
    "%timeit jit_fn(x).block_until_ready()"
   ]
  },
  {
   "cell_type": "markdown",
   "id": "b8f3e59e",
   "metadata": {},
   "source": [
    "# Putting it all together: linear regression"
   ]
  },
  {
   "cell_type": "code",
   "execution_count": null,
   "id": "d79f9bdc",
   "metadata": {},
   "outputs": [],
   "source": [
    "x_batch = jnp.linspace(0, 1, 100).reshape((100,1))\n",
    "y_label_batch = 5*x_batch + 1 + jax.random.normal(key, (100,1))\n",
    "\n",
    "plt.scatter(x_batch, y_label_batch, label=\"training data\")\n",
    "plt.legend()\n",
    "plt.xlabel(\"x\"); plt.ylabel(\"y\")\n",
    "plt.show()"
   ]
  },
  {
   "cell_type": "code",
   "execution_count": null,
   "id": "3674a5f8",
   "metadata": {},
   "outputs": [],
   "source": [
    "def init():\n",
    "    \"Returns initial model parameters\"\n",
    "    w = jnp.array(0.).reshape((1,1))\n",
    "    b = jnp.array(0.).reshape((1,))\n",
    "    theta = (w,b)\n",
    "    return theta\n",
    "\n",
    "def forward(theta, x):\n",
    "    \"Returns model prediction, for a single example input\"\n",
    "    w, b = theta\n",
    "    x = w @ x + b\n",
    "    return x\n",
    "\n",
    "forward_batch = jax.vmap(forward, in_axes=(None, 0))# batched version of forward\n",
    "\n",
    "def loss(theta, x_batch, y_label_batch):\n",
    "    \"Computes mean squared error between model prediction and training data\"\n",
    "    y_batch = forward_batch(theta, x_batch)\n",
    "    return jnp.mean((y_batch-y_label_batch)**2)\n",
    "\n",
    "grad = jax.value_and_grad(loss, argnums=0)# gradient of loss wrt model parameters\n",
    "\n",
    "def step(lrate, theta, x_batch, y_label_batch):\n",
    "    \"Performs one gradient descent step on model parameters, given training data\"\n",
    "    # TODO: write step function\n",
    "\n",
    "jit_step = jax.jit(step)# makes step go brr\n",
    "\n",
    "\n",
    "# initialise model parameters\n",
    "theta = init()\n",
    "\n",
    "# run gradient descent\n",
    "for i in range(1000):\n",
    "    theta, lossval = jit_step(0.1, theta, x_batch, y_label_batch)\n",
    "\n",
    "plt.scatter(x_batch, y_label_batch, label=\"training data\")\n",
    "plt.plot(x_batch, forward_batch(theta, x_batch), color=\"tab:orange\", lw=3, label=\"model prediction\")\n",
    "plt.legend()\n",
    "plt.xlabel(\"x\"); plt.ylabel(\"y\")\n",
    "plt.show()\n",
    "print(theta)"
   ]
  },
  {
   "cell_type": "markdown",
   "id": "33877a70",
   "metadata": {},
   "source": [
    "# Extra: multi-device parallelisation with JAX"
   ]
  },
  {
   "cell_type": "code",
   "execution_count": null,
   "id": "4aa846bb",
   "metadata": {},
   "outputs": [],
   "source": [
    "from jax.experimental import mesh_utils\n",
    "from jax.sharding import PositionalSharding\n",
    "\n",
    "print(jax.devices())\n",
    "\n",
    "x = jax.random.normal(key, (8192, 8192))\n",
    "\n",
    "sharding = PositionalSharding(jax.devices()).reshape(2,1)\n",
    "x = jax.device_put(x, sharding)\n",
    "jax.debug.visualize_array_sharding(x)# shards array across first dimension\n",
    "\n",
    "y = x**2\n",
    "jax.debug.visualize_array_sharding(y)# \"computation follows sharding\" paradigm\n",
    "\n",
    "y = jnp.mean(x**2, axis=0, keepdims=True)# compiler also inserts communication as necessary!\n",
    "jax.debug.visualize_array_sharding(y)# result is replicated across devices"
   ]
  },
  {
   "cell_type": "code",
   "execution_count": null,
   "id": "a32a182d",
   "metadata": {},
   "outputs": [],
   "source": []
  }
 ],
 "metadata": {
  "kernelspec": {
   "display_name": "Python 3 (ipykernel)",
   "language": "python",
   "name": "python3"
  },
  "language_info": {
   "codemirror_mode": {
    "name": "ipython",
    "version": 3
   },
   "file_extension": ".py",
   "mimetype": "text/x-python",
   "name": "python",
   "nbconvert_exporter": "python",
   "pygments_lexer": "ipython3",
   "version": "3.10.13"
  }
 },
 "nbformat": 4,
 "nbformat_minor": 5
}
